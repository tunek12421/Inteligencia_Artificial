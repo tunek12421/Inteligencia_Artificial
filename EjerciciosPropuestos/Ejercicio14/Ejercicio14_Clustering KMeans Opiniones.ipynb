{
 "cells": [
  {
   "cell_type": "code",
   "execution_count": 1,
   "id": "c9fb7906",
   "metadata": {},
   "outputs": [
    {
     "name": "stdout",
     "output_type": "stream",
     "text": [
      "                                             reviews  labels  cluster\n",
      "0                  simplistic , silly and tedious .        0        0\n",
      "1  it's so laddish and juvenile , only teenage bo...       0        0\n",
      "2  exploitative and largely devoid of the depth o...       0        0\n",
      "3  [garbus] discards the potential for pathologic...       0        0\n",
      "4  a visually flashy but narratively opaque and e...       0        0\n"
     ]
    }
   ],
   "source": [
    "import pandas as pd\n",
    "from sklearn.feature_extraction.text import TfidfVectorizer\n",
    "from sklearn.cluster import KMeans\n",
    "df = pd.read_csv('../../Dataset/data_rt.csv')\n",
    "X = TfidfVectorizer(stop_words='english').fit_transform(df['reviews'])\n",
    "kmeans = KMeans(n_clusters=2, random_state=42)\n",
    "kmeans.fit(X)\n",
    "df['cluster'] = kmeans.labels_\n",
    "print(df.head())"
   ]
  }
 ],
 "metadata": {
  "kernelspec": {
   "display_name": ".venv",
   "language": "python",
   "name": "python3"
  },
  "language_info": {
   "codemirror_mode": {
    "name": "ipython",
    "version": 3
   },
   "file_extension": ".py",
   "mimetype": "text/x-python",
   "name": "python",
   "nbconvert_exporter": "python",
   "pygments_lexer": "ipython3",
   "version": "3.12.3"
  }
 },
 "nbformat": 4,
 "nbformat_minor": 5
}

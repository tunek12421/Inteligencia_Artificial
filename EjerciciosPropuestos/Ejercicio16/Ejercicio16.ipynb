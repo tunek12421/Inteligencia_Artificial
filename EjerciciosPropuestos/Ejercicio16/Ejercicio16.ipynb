{
 "cells": [
  {
   "cell_type": "code",
   "execution_count": 1,
   "id": "20c84109",
   "metadata": {},
   "outputs": [
    {
     "name": "stdout",
     "output_type": "stream",
     "text": [
      "Ridge - MSE: 24.48, R²: 0.67\n",
      "Coeficientes: [-1.09234061e-01  3.22706863e-02  7.49805942e-03  2.54546998e+00\n",
      " -9.53795159e+00  4.46450537e+00 -1.21910176e-02 -1.33870040e+00\n",
      "  2.48881816e-01 -1.14746211e-02 -8.28604284e-01  1.26421124e-02\n",
      " -5.23833016e-01]\n",
      "\n",
      "Lasso - MSE: 25.16, R²: 0.66\n",
      "Coeficientes: [-0.10415691  0.03489335 -0.01678527  0.91995182 -0.          4.31168655\n",
      " -0.01512583 -1.15148729  0.23923695 -0.01296223 -0.73224678  0.01309057\n",
      " -0.56467442]\n",
      "\n",
      "ElasticNet - MSE: 24.44, R²: 0.67\n",
      "Coeficientes: [-0.10685304  0.0370152  -0.03089955  0.97722083 -0.01993179  3.76434053\n",
      " -0.01170315 -1.17602006  0.25844329 -0.0134792  -0.76162739  0.0127458\n",
      " -0.60005149]\n",
      "\n"
     ]
    }
   ],
   "source": [
    "import pandas as pd\n",
    "import numpy as np\n",
    "from sklearn.model_selection import train_test_split\n",
    "from sklearn.linear_model import Ridge, Lasso, ElasticNet\n",
    "from sklearn.metrics import mean_squared_error, r2_score\n",
    "\n",
    "# Cargar el dataset de Boston Housing desde fuente original\n",
    "data_url = \"http://lib.stat.cmu.edu/datasets/boston\"\n",
    "raw_df = pd.read_csv(data_url, sep=r\"\\s+\", skiprows=22, header=None)\n",
    "data = np.hstack([raw_df.values[::2, :], raw_df.values[1::2, :2]])\n",
    "target = raw_df.values[1::2, 2]\n",
    "\n",
    "# Crear los nombres de las características\n",
    "feature_names = ['CRIM', 'ZN', 'INDUS', 'CHAS', 'NOX', 'RM', 'AGE', 'DIS', 'RAD', 'TAX', 'PTRATIO', 'B', 'LSTAT']\n",
    "\n",
    "X = pd.DataFrame(data, columns=feature_names)\n",
    "y = target\n",
    "\n",
    "# Dividir los datos\n",
    "X_train, X_test, y_train, y_test = train_test_split(X, y, test_size=0.2, random_state=42)\n",
    "\n",
    "# Ajustar modelos\n",
    "models = {\n",
    "\"Ridge\": Ridge(alpha=1.0),\n",
    "\"Lasso\": Lasso(alpha=0.1),\n",
    "\"ElasticNet\": ElasticNet(alpha=0.1, l1_ratio=0.5)\n",
    "}\n",
    "\n",
    "for name, model in models.items():\n",
    "    model.fit(X_train, y_train)\n",
    "    y_pred = model.predict(X_test)\n",
    "    mse = mean_squared_error(y_test, y_pred)\n",
    "    r2 = r2_score(y_test, y_pred)\n",
    "    print(f\"{name} - MSE: {mse:.2f}, R²: {r2:.2f}\")\n",
    "    print(f\"Coeficientes: {model.coef_}\\n\")"
   ]
  }
 ],
 "metadata": {
  "kernelspec": {
   "display_name": ".venv",
   "language": "python",
   "name": "python3"
  },
  "language_info": {
   "codemirror_mode": {
    "name": "ipython",
    "version": 3
   },
   "file_extension": ".py",
   "mimetype": "text/x-python",
   "name": "python",
   "nbconvert_exporter": "python",
   "pygments_lexer": "ipython3",
   "version": "3.12.3"
  }
 },
 "nbformat": 4,
 "nbformat_minor": 5
}

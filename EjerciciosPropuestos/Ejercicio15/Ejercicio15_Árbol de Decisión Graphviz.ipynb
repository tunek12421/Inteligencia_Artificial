{
 "cells": [
  {
   "cell_type": "code",
   "execution_count": 2,
   "id": "94ab68ee",
   "metadata": {},
   "outputs": [
    {
     "data": {
      "text/plain": [
       "'titanic_tree.png'"
      ]
     },
     "execution_count": 2,
     "metadata": {},
     "output_type": "execute_result"
    }
   ],
   "source": [
    "import pandas as pd\n",
    "from sklearn.tree import DecisionTreeClassifier, export_graphviz\n",
    "import graphviz\n",
    "df = pd.read_csv('../Ejercicio1/titanic_limpio.csv')\n",
    "X = df.drop('2urvived', axis=1)\n",
    "y = df['2urvived']\n",
    "model = DecisionTreeClassifier(max_depth=4)\n",
    "model.fit(X, y)\n",
    "dot_data = export_graphviz(model, out_file=None, feature_names=X.columns,\n",
    " class_names=['No', 'Sí'], filled=True)\n",
    "graph = graphviz.Source(dot_data)\n",
    "graph.render(\"titanic_tree\", format=\"png\", cleanup=True)"
   ]
  }
 ],
 "metadata": {
  "kernelspec": {
   "display_name": ".venv",
   "language": "python",
   "name": "python3"
  },
  "language_info": {
   "codemirror_mode": {
    "name": "ipython",
    "version": 3
   },
   "file_extension": ".py",
   "mimetype": "text/x-python",
   "name": "python",
   "nbconvert_exporter": "python",
   "pygments_lexer": "ipython3",
   "version": "3.12.3"
  }
 },
 "nbformat": 4,
 "nbformat_minor": 5
}

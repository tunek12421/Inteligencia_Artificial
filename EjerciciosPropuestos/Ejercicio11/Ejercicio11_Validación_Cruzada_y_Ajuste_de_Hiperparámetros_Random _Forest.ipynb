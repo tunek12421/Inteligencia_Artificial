{
 "cells": [
  {
   "cell_type": "code",
   "execution_count": 1,
   "id": "a40e4fd5",
   "metadata": {},
   "outputs": [
    {
     "name": "stdout",
     "output_type": "stream",
     "text": [
      "Mejores parámetros: {'max_depth': 4, 'n_estimators': 100}\n",
      "Reporte de clasificación:               precision    recall  f1-score   support\n",
      "\n",
      "           0       0.87      0.99      0.92       967\n",
      "           1       0.94      0.57      0.71       342\n",
      "\n",
      "    accuracy                           0.88      1309\n",
      "   macro avg       0.90      0.78      0.81      1309\n",
      "weighted avg       0.88      0.88      0.87      1309\n",
      "\n"
     ]
    }
   ],
   "source": [
    "from sklearn.model_selection import GridSearchCV\n",
    "from sklearn.ensemble import RandomForestClassifier\n",
    "from sklearn.metrics import classification_report\n",
    "import pandas as pd\n",
    "# Cargar datos\n",
    "df = pd.read_csv('../Ejercicio1/titanic_limpio.csv')\n",
    "X = df.drop('2urvived', axis=1)\n",
    "y = df['2urvived']\n",
    "# Ajustar con GridSearchCV\n",
    "param_grid = {'n_estimators': [50, 100], 'max_depth': [4, 6, 8]}\n",
    "grid = GridSearchCV(RandomForestClassifier(), param_grid, cv=5)\n",
    "grid.fit(X, y)\n",
    "# Mostrar mejor modelo\n",
    "print(\"Mejores parámetros:\", grid.best_params_)\n",
    "print(\"Reporte de clasificación:\", classification_report(y, grid.predict(X)))"
   ]
  }
 ],
 "metadata": {
  "kernelspec": {
   "display_name": ".venv",
   "language": "python",
   "name": "python3"
  },
  "language_info": {
   "codemirror_mode": {
    "name": "ipython",
    "version": 3
   },
   "file_extension": ".py",
   "mimetype": "text/x-python",
   "name": "python",
   "nbconvert_exporter": "python",
   "pygments_lexer": "ipython3",
   "version": "3.12.3"
  }
 },
 "nbformat": 4,
 "nbformat_minor": 5
}
